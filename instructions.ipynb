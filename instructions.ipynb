{
 "cells": [
  {
   "cell_type": "markdown",
   "metadata": {},
   "source": [
    "# Steps to Run the SVS to TIF Converter\n",
    "\n",
    "1. **Unzip the Elif_final.zip File**  \n",
    "   Unzip the `Elif_final.zip` file to a directory of your choice. Then, open the Anaconda prompt and navigate to that directory using the following command:  \n",
    "   ```bash\n",
    "   cd path/to/your/folder\n",
    "   ```\n",
    "\n",
    "2. **Create the Virtual Environment**  \n",
    "   Create a virtual environment using the provided `.yml` file, which contains the necessary packages. Run the following command:  \n",
    "   ```bash\n",
    "   conda env create -f environment.yml\n",
    "   ```\n",
    "\n",
    "3. **Copy the OpenSlide Folder**  \n",
    "   From the `Elif_final` folder, copy the `openslide` folder to the C drive. After copying, copy the path of the `bin` folder inside the `openslide` folder. The path may look something like this:  \n",
    "   ```\n",
    "   C:\\Openslide\\bin\n",
    "   ```  \n",
    "   Open the `svs2tif.py` file in any code editor (e.g., VS Code, Spyder, Atom, Notepad++). Change the file path of the OpenSlide DLL directory in the following line:  \n",
    "   ```python\n",
    "   # Add the directory containing the OpenSlide DLLs to the PATH\n",
    "   os.add_dll_directory(r'C:\\Openslide\\bin')\n",
    "   ```  \n",
    "   **IMPORTANT:** Make sure you save the `svs2tif.py` file after making this change.\n",
    "\n",
    "4. **Activate Your Environment**  \n",
    "   Open the Anaconda prompt and activate your environment with the following command:  \n",
    "   ```bash\n",
    "   conda activate svs2tif\n",
    "   ```  \n",
    "   **Tip:** To check the list of environments, use:  \n",
    "   ```bash\n",
    "   conda env list\n",
    "   ```  \n",
    "   To deactivate your environment, simply type:  \n",
    "   ```bash\n",
    "   deactivate\n",
    "   ```\n",
    "\n",
    "5. **Run the Script**  \n",
    "   To run the script from the command line, navigate to the same directory as your Python script after activating the environment, and use the following command:  \n",
    "   ```bash\n",
    "   python convert_svs_to_tif.py --input folder/path/to/input --output folder/path/to/output\n",
    "   ```"
   ]
  }
 ],
 "metadata": {
  "kernelspec": {
   "display_name": "Python 3",
   "language": "python",
   "name": "python3"
  },
  "language_info": {
   "codemirror_mode": {
    "name": "ipython",
    "version": 3
   },
   "file_extension": ".py",
   "mimetype": "text/x-python",
   "name": "python",
   "nbconvert_exporter": "python",
   "pygments_lexer": "ipython3",
   "version": "3.8.5"
  }
 },
 "nbformat": 4,
 "nbformat_minor": 4
}
